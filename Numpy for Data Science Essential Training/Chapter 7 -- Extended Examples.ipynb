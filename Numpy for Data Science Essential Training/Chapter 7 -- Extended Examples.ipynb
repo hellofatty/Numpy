{
 "cells": [
  {
   "cell_type": "markdown",
   "metadata": {},
   "source": [
    "# Chapter 7 -- Extended Examples"
   ]
  },
  {
   "cell_type": "markdown",
   "metadata": {},
   "source": [
    "## 7-1 Magic Squares"
   ]
  },
  {
   "cell_type": "code",
   "execution_count": 23,
   "metadata": {
    "collapsed": true
   },
   "outputs": [],
   "source": [
    "import numpy as np"
   ]
  },
  {
   "cell_type": "markdown",
   "metadata": {},
   "source": [
    "### Components of an Integer"
   ]
  },
  {
   "cell_type": "markdown",
   "metadata": {},
   "source": [
    "\\begin{equation*}\n",
    "341 = 3 x 10^2 + 4 x 10^1 + 1 x 10^0\n",
    "\\end{equation*}"
   ]
  },
  {
   "cell_type": "markdown",
   "metadata": {},
   "source": [
    "### Components of an Polynomial"
   ]
  },
  {
   "cell_type": "markdown",
   "metadata": {},
   "source": [
    "\\begin{equation*}\n",
    "n = 3 X^2 + 4 X^1 + 1 x 10^0\n",
    "\\end{equation*}"
   ]
  },
  {
   "cell_type": "markdown",
   "metadata": {},
   "source": [
    "### Solving for the roots of a polynomial, equivalent to finding a base"
   ]
  },
  {
   "cell_type": "markdown",
   "metadata": {},
   "source": [
    "\\begin{equation*}\n",
    "96 = 3 X^2 + 4 X^1 + 1 x X^0\n",
    "\\end{equation*}"
   ]
  },
  {
   "cell_type": "code",
   "execution_count": 25,
   "metadata": {},
   "outputs": [
    {
     "data": {
      "text/plain": [
       "array([-6.33333333,  5.        ])"
      ]
     },
     "execution_count": 25,
     "metadata": {},
     "output_type": "execute_result"
    }
   ],
   "source": [
    "equation_coefficients = [3, 4, -95]\n",
    "np.roots(equation_coefficients)"
   ]
  },
  {
   "cell_type": "markdown",
   "metadata": {},
   "source": [
    "## 7-2 Adjacency Matrix"
   ]
  },
  {
   "cell_type": "markdown",
   "metadata": {},
   "source": [
    "<list>\n",
    "<li>Adjacency Matrix - determine value in cell, from an adjacent cell</li>\n",
    "<li>Magic Characteristics - center cell value, center cell coordinates, origin coordinates, polynomial base, </li>\n",
    "<li>Magic Cube - construction and \"dictionary\"</li>\n",
    "</list>"
   ]
  },
  {
   "cell_type": "markdown",
   "metadata": {},
   "source": [
    "### Structure of Adjacency Matrix"
   ]
  },
  {
   "cell_type": "code",
   "execution_count": 1,
   "metadata": {},
   "outputs": [],
   "source": [
    "import numpy as np\n",
    "\n",
    "\n",
    "class AdjacencyMatrix:\n",
    "    \"\"\"Given a cell within a magic square, an adjacency matrix calculates the value of an adjacent cell\n",
    "\n",
    "    an adjacency matrix can also be used to calculate the value of a non-adjacent cell via 'multiplication'\n",
    "    \"\"\"\n",
    "    def __init__(self, dimensions):\n",
    "        self.dimensions = dimensions\n",
    "        self.matrix = np.ones((dimensions, dimensions), dtype=np.int64)\n",
    "        self.__prepare_matrix()\n",
    "\n",
    "    def __prepare_matrix(self):\n",
    "        for i in range(self.dimensions):\n",
    "            for j in range(self.dimensions):\n",
    "                if ((i + j) > (self.dimensions - 2)):\n",
    "                    self.matrix[i, j] = 1\n",
    "                else:\n",
    "                    self.matrix[i, j] = -1"
   ]
  },
  {
   "cell_type": "code",
   "execution_count": 3,
   "metadata": {},
   "outputs": [
    {
     "data": {
      "text/plain": [
       "array([[-1, -1, -1, -1, -1, -1,  1],\n",
       "       [-1, -1, -1, -1, -1,  1,  1],\n",
       "       [-1, -1, -1, -1,  1,  1,  1],\n",
       "       [-1, -1, -1,  1,  1,  1,  1],\n",
       "       [-1, -1,  1,  1,  1,  1,  1],\n",
       "       [-1,  1,  1,  1,  1,  1,  1],\n",
       "       [ 1,  1,  1,  1,  1,  1,  1]], dtype=int64)"
      ]
     },
     "execution_count": 3,
     "metadata": {},
     "output_type": "execute_result"
    }
   ],
   "source": [
    "am = AdjacencyMatrix(7).matrix\n",
    "am"
   ]
  },
  {
   "cell_type": "code",
   "execution_count": 4,
   "metadata": {},
   "outputs": [
    {
     "data": {
      "text/plain": [
       "matrix([[-1, -1, -1, -1, -1, -1,  1],\n",
       "        [-1, -1, -1, -1, -1,  1,  1],\n",
       "        [-1, -1, -1, -1,  1,  1,  1],\n",
       "        [-1, -1, -1,  1,  1,  1,  1],\n",
       "        [-1, -1,  1,  1,  1,  1,  1],\n",
       "        [-1,  1,  1,  1,  1,  1,  1],\n",
       "        [ 1,  1,  1,  1,  1,  1,  1]], dtype=int64)"
      ]
     },
     "execution_count": 4,
     "metadata": {},
     "output_type": "execute_result"
    }
   ],
   "source": [
    "amm = np.asmatrix(am)\n",
    "amm"
   ]
  },
  {
   "cell_type": "code",
   "execution_count": 6,
   "metadata": {},
   "outputs": [
    {
     "data": {
      "text/plain": [
       "matrix([[-1, -1, -1, -1, -1, -1,  1],\n",
       "        [-1, -1, -1, -1, -1,  1,  1],\n",
       "        [-1, -1, -1, -1,  1,  1,  1],\n",
       "        [-1, -1, -1,  1,  1,  1,  1],\n",
       "        [-1, -1,  1,  1,  1,  1,  1],\n",
       "        [-1,  1,  1,  1,  1,  1,  1],\n",
       "        [ 1,  1,  1,  1,  1,  1,  1]], dtype=int64)"
      ]
     },
     "execution_count": 6,
     "metadata": {},
     "output_type": "execute_result"
    }
   ],
   "source": [
    "ammt = amm.T\n",
    "ammt"
   ]
  },
  {
   "cell_type": "code",
   "execution_count": 7,
   "metadata": {},
   "outputs": [
    {
     "data": {
      "text/plain": [
       "matrix([[-0. , -0. , -0. , -0. , -0. , -0.5,  0.5],\n",
       "        [ 0. ,  0. ,  0. ,  0. , -0.5,  0.5,  0. ],\n",
       "        [ 0. ,  0. ,  0. , -0.5,  0.5,  0. ,  0. ],\n",
       "        [ 0. ,  0. , -0.5,  0.5,  0. ,  0. ,  0. ],\n",
       "        [ 0. , -0.5,  0.5,  0. ,  0. ,  0. ,  0. ],\n",
       "        [-0.5,  0.5,  0. ,  0. ,  0. ,  0. ,  0. ],\n",
       "        [ 0.5,  0. ,  0. ,  0. ,  0. ,  0. ,  0.5]])"
      ]
     },
     "execution_count": 7,
     "metadata": {},
     "output_type": "execute_result"
    }
   ],
   "source": [
    "ammt.I"
   ]
  },
  {
   "cell_type": "markdown",
   "metadata": {},
   "source": [
    "## 7-3 Magic Characteristics"
   ]
  },
  {
   "cell_type": "code",
   "execution_count": null,
   "metadata": {},
   "outputs": [],
   "source": []
  },
  {
   "cell_type": "code",
   "execution_count": 8,
   "metadata": {},
   "outputs": [],
   "source": [
    "import numpy as np\n",
    "\n",
    "# from com.charleskelly.magic.adjacency.adjacency_matrix import AdjacencyMatrix\n",
    "\n",
    "class MagicCharacteristics:\n",
    "    \"\"\"Characterisitics of a magic hyper square.\n",
    "\n",
    "        order must be an odd number.\n",
    "    \"\"\"\n",
    "\n",
    "    def __init__(self, dimensions: int, order: int):\n",
    "        self.dimensions = dimensions\n",
    "        self.order = order\n",
    "        self.adjacencyMatrix = AdjacencyMatrix(dimensions)\n",
    "\n",
    "        modulus = order % 2\n",
    "        if not 1 == modulus:\n",
    "            raise Exception(\"order must be an odd integer\")\n",
    "\n",
    "        self.totalCells = order ** dimensions\n",
    "        self.maximumValue = self.totalCells - 1\n",
    "\n",
    "        \"\"\" order exponentiated to each integer in rang(dimensions)\n",
    "            for example [1, 5, 25, 125] for order:5 and dimensions:4\n",
    "        \"\"\"\n",
    "        self.polynomialBase = np.array(order ** np.arange(dimensions), dtype=np.int64)\n",
    "\n",
    "        __centerCellCoordinate = (order - 1) // 2\n",
    "        self.centerCellCoordinates = np.ones((dimensions), dtype=np.int64) * __centerCellCoordinate\n",
    "\n",
    "        # center cell coordinates and values are the same, this is a special case\n",
    "        self.centerCellValue = np.ones((dimensions), dtype=np.int64) * __centerCellCoordinate\n",
    "\n",
    "        self.originValue = np.array(self.__prepareOrigin())\n",
    "\n",
    "    def __prepareOrigin(self) -> list:\n",
    "        \"\"\" The origin is the cell whose coordinates are all equal to zero.\n",
    "            Every cell has 1 coordinate for each dimension\n",
    "        \"\"\"\n",
    "        offset = ((self.order - 1) // 2) * -1\n",
    "\n",
    "        tempOriginValue = np.copy(self.centerCellValue)\n",
    "\n",
    "        for i in range(self.dimensions):\n",
    "            tempOriginValue += self.adjacencyMatrix.matrix[i] * offset\n",
    "\n",
    "        tempOriginValue %= self.order\n",
    "\n",
    "        return tempOriginValue\n",
    "\n",
    "    def calculate_cell_value(self, cellCoordinates: np.array) -> np.ndarray:\n",
    "        increment_to_origin = np.sum(self.adjacencyMatrix.matrix * cellCoordinates, axis=1)\n",
    "        temp = (self.originValue + increment_to_origin) % self.order\n",
    "        return np.array(temp)\n",
    "\n",
    "    def calculate_cell_int(self, cellComponents: np.array) -> int:\n",
    "        tempInt = np.sum(cellComponents * self.polynomialBase)\n",
    "\n",
    "        return tempInt"
   ]
  },
  {
   "cell_type": "code",
   "execution_count": 9,
   "metadata": {},
   "outputs": [
    {
     "data": {
      "text/plain": [
       "<__main__.MagicCharacteristics at 0x2025b57c7c8>"
      ]
     },
     "execution_count": 9,
     "metadata": {},
     "output_type": "execute_result"
    }
   ],
   "source": [
    "MagicCharacteristics(3,5)"
   ]
  },
  {
   "cell_type": "markdown",
   "metadata": {},
   "source": [
    "## 7-4 Building Magic Cubes"
   ]
  },
  {
   "cell_type": "code",
   "execution_count": 11,
   "metadata": {},
   "outputs": [],
   "source": [
    "import numpy as np\n",
    "from itertools import product\n",
    "\n",
    "# from com.charleskelly.magic.magic_cube.characteristics import MagicCharacteristics\n",
    "class MagicCube:\n",
    "    def __init__(self, dimensions: int, order: int):\n",
    "        self.dimensions = dimensions\n",
    "        self.order = order\n",
    "        self.magicCharacteristics = MagicCharacteristics(dimensions, order)\n",
    "\n",
    "        self.__prepare_dictionary()\n",
    "\n",
    "    def __prepare_dictionary(self) -> None:\n",
    "        self.pairs_dict = dict()\n",
    "        coordinates = product(range(self.order), repeat=self.dimensions)\n",
    "\n",
    "        cell_tuple_value = []\n",
    "        for c in coordinates:\n",
    "            coords = np.array(c)\n",
    "\n",
    "            cell_tuple_value = np.array(self.magicCharacteristics.calculate_cell_value(coords) )\n",
    "            cell_int_value = self.magicCharacteristics.calculate_cell_int(cell_tuple_value)\n",
    "            \n",
    "            self.pairs_dict[tuple(coords)] = cell_int_value"
   ]
  },
  {
   "cell_type": "code",
   "execution_count": 12,
   "metadata": {},
   "outputs": [
    {
     "name": "stdout",
     "output_type": "stream",
     "text": [
      "(0, 0): 7\n",
      "(0, 1): 2\n",
      "(0, 2): 3\n",
      "(1, 0): 0\n",
      "(1, 1): 4\n",
      "(1, 2): 8\n",
      "(2, 0): 5\n",
      "(2, 1): 6\n",
      "(2, 2): 1\n"
     ]
    },
    {
     "data": {
      "text/plain": [
       "array([[7, 2, 3],\n",
       "       [0, 4, 8],\n",
       "       [5, 6, 1]], dtype=int64)"
      ]
     },
     "execution_count": 12,
     "metadata": {},
     "output_type": "execute_result"
    }
   ],
   "source": [
    "my_magic_cube = MagicCube(2,3)\n",
    "pairs_dictionary = my_magic_cube.pairs_dict\n",
    "\n",
    "magic_square_values = []\n",
    "for key in sorted(pairs_dictionary):\n",
    "    print(\"%s: %s\" % (key, pairs_dictionary[key]) )\n",
    "    magic_square_values.append(pairs_dictionary[key])\n",
    "\n",
    "magic_square_display = np.array(magic_square_values).reshape((3,3))\n",
    "magic_square_display"
   ]
  },
  {
   "cell_type": "code",
   "execution_count": null,
   "metadata": {},
   "outputs": [],
   "source": []
  }
 ],
 "metadata": {
  "kernelspec": {
   "display_name": "Python 3",
   "language": "python",
   "name": "python3"
  },
  "language_info": {
   "codemirror_mode": {
    "name": "ipython",
    "version": 3
   },
   "file_extension": ".py",
   "mimetype": "text/x-python",
   "name": "python",
   "nbconvert_exporter": "python",
   "pygments_lexer": "ipython3",
   "version": "3.7.6"
  },
  "toc": {
   "base_numbering": 1,
   "nav_menu": {},
   "number_sections": false,
   "sideBar": true,
   "skip_h1_title": false,
   "title_cell": "Table of Contents",
   "title_sidebar": "Contents",
   "toc_cell": false,
   "toc_position": {},
   "toc_section_display": true,
   "toc_window_display": false
  },
  "varInspector": {
   "cols": {
    "lenName": 16,
    "lenType": 16,
    "lenVar": 40
   },
   "kernels_config": {
    "python": {
     "delete_cmd_postfix": "",
     "delete_cmd_prefix": "del ",
     "library": "var_list.py",
     "varRefreshCmd": "print(var_dic_list())"
    },
    "r": {
     "delete_cmd_postfix": ") ",
     "delete_cmd_prefix": "rm(",
     "library": "var_list.r",
     "varRefreshCmd": "cat(var_dic_list()) "
    }
   },
   "types_to_exclude": [
    "module",
    "function",
    "builtin_function_or_method",
    "instance",
    "_Feature"
   ],
   "window_display": false
  }
 },
 "nbformat": 4,
 "nbformat_minor": 1
}
